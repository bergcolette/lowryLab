{
 "cells": [
  {
   "cell_type": "code",
   "execution_count": 3,
   "metadata": {},
   "outputs": [
    {
     "ename": "ModuleNotFoundError",
     "evalue": "No module named 'numpy'",
     "output_type": "error",
     "traceback": [
      "\u001b[0;31m---------------------------------------------------------------------------\u001b[0m",
      "\u001b[0;31mModuleNotFoundError\u001b[0m                       Traceback (most recent call last)",
      "\u001b[0;32m<ipython-input-3-0a779a4cac32>\u001b[0m in \u001b[0;36m<module>\u001b[0;34m\u001b[0m\n\u001b[1;32m      3\u001b[0m \u001b[0;34m\u001b[0m\u001b[0m\n\u001b[1;32m      4\u001b[0m \u001b[0;31m# import relevant packages\u001b[0m\u001b[0;34m\u001b[0m\u001b[0;34m\u001b[0m\u001b[0;34m\u001b[0m\u001b[0m\n\u001b[0;32m----> 5\u001b[0;31m \u001b[0;32mimport\u001b[0m \u001b[0mnumpy\u001b[0m \u001b[0;32mas\u001b[0m \u001b[0mnp\u001b[0m\u001b[0;34m\u001b[0m\u001b[0;34m\u001b[0m\u001b[0m\n\u001b[0m\u001b[1;32m      6\u001b[0m \u001b[0;32mimport\u001b[0m \u001b[0mpandas\u001b[0m \u001b[0;32mas\u001b[0m \u001b[0mpd\u001b[0m\u001b[0;34m\u001b[0m\u001b[0;34m\u001b[0m\u001b[0m\n\u001b[1;32m      7\u001b[0m \u001b[0;34m\u001b[0m\u001b[0m\n",
      "\u001b[0;31mModuleNotFoundError\u001b[0m: No module named 'numpy'"
     ]
    }
   ],
   "source": [
    "# script to process .012 (genotype) files into text files compatibel with matrixEQTL\n",
    "# !pip install numpy\n",
    "\n",
    "# import relevant packages \n",
    "import numpy as np \n",
    "import pandas as pd\n",
    "\n",
    "\n",
    "from pandas.api.types import is_string_dtype\n",
    "from pandas.api.types import is_numeric_dtype\n",
    "\n",
    "# set genotype directory\n",
    "genDir=\"/mnt/scratch/bergcole/filtered_switchgrass_genotypes/filt_99\"\n",
    "\n",
    "# reading in indvs -- only need to do this once bc all chroms have the same individuals\n",
    "indv = pd.read_csv(genDir+\"/Chr01K_halfMb.012.indv\", sep=\"\\t\", header=None)"
   ]
  },
  {
   "cell_type": "code",
   "execution_count": 2,
   "metadata": {},
   "outputs": [
    {
     "ename": "NameError",
     "evalue": "name 'pd' is not defined",
     "output_type": "error",
     "traceback": [
      "\u001b[0;31m---------------------------------------------------------------------------\u001b[0m",
      "\u001b[0;31mNameError\u001b[0m                                 Traceback (most recent call last)",
      "\u001b[0;32m<ipython-input-2-e4cd77c63fa9>\u001b[0m in \u001b[0;36m<module>\u001b[0;34m\u001b[0m\n\u001b[1;32m      1\u001b[0m \u001b[0;31m# read in geotypes, individuals, and positions\u001b[0m\u001b[0;34m\u001b[0m\u001b[0;34m\u001b[0m\u001b[0;34m\u001b[0m\u001b[0m\n\u001b[0;32m----> 2\u001b[0;31m \u001b[0mgen\u001b[0m \u001b[0;34m=\u001b[0m \u001b[0mpd\u001b[0m\u001b[0;34m.\u001b[0m\u001b[0mread_csv\u001b[0m\u001b[0;34m(\u001b[0m\u001b[0mgenDir\u001b[0m\u001b[0;34m+\u001b[0m\u001b[0;34m\"/Chr01K_halfMb.012\"\u001b[0m\u001b[0;34m,\u001b[0m \u001b[0msep\u001b[0m\u001b[0;34m=\u001b[0m\u001b[0;34m\"\\t\"\u001b[0m\u001b[0;34m,\u001b[0m \u001b[0mheader\u001b[0m\u001b[0;34m=\u001b[0m\u001b[0;32mNone\u001b[0m\u001b[0;34m)\u001b[0m\u001b[0;34m\u001b[0m\u001b[0;34m\u001b[0m\u001b[0m\n\u001b[0m\u001b[1;32m      3\u001b[0m \u001b[0mpos\u001b[0m \u001b[0;34m=\u001b[0m \u001b[0mpd\u001b[0m\u001b[0;34m.\u001b[0m\u001b[0mread_csv\u001b[0m\u001b[0;34m(\u001b[0m\u001b[0mgenDir\u001b[0m\u001b[0;34m+\u001b[0m\u001b[0;34m\"/Chr01K_halfMb.012.pos\"\u001b[0m\u001b[0;34m,\u001b[0m \u001b[0msep\u001b[0m\u001b[0;34m=\u001b[0m\u001b[0;34m\"\\t\"\u001b[0m\u001b[0;34m,\u001b[0m \u001b[0mheader\u001b[0m\u001b[0;34m=\u001b[0m\u001b[0;32mNone\u001b[0m\u001b[0;34m)\u001b[0m\u001b[0;34m\u001b[0m\u001b[0;34m\u001b[0m\u001b[0m\n\u001b[1;32m      4\u001b[0m \u001b[0;34m\u001b[0m\u001b[0m\n\u001b[1;32m      5\u001b[0m \u001b[0;31m# make colnames for positions, and concatenate Chrom and Pos into an \"id\" column\u001b[0m\u001b[0;34m\u001b[0m\u001b[0;34m\u001b[0m\u001b[0;34m\u001b[0m\u001b[0m\n",
      "\u001b[0;31mNameError\u001b[0m: name 'pd' is not defined"
     ]
    }
   ],
   "source": [
    "# read in genotypes, individuals, and positions\n",
    "gen = pd.read_csv(genDir+\"/Chr01K_halfMb.012\", sep=\"\\t\", header=None)\n",
    "pos = pd.read_csv(genDir+\"/Chr01K_halfMb.012.pos\", sep=\"\\t\", header=None)\n",
    "\n",
    "# make colnames for positions, and concatenate Chrom and Pos into an \"id\" column \n",
    "pos.columns = [\"Chrom\", \"Pos\"]\n",
    "pos['id'] = pos['Chrom'].astype(str) + ['_'] + pos['Pos'].astype(str)\n",
    "\n",
    "# transpose the genotypes and add indv names \n",
    "gen_T = gen.T[1:].reset_index().iloc[:,1:]\n",
    "gen_T.columns=indv[0]\n",
    "\n",
    "# concatenate the positions and genotypes \n",
    "all = pd.concat([pos.drop(columns=[\"Chrom\", \"Pos\"]), gen_T], axis=1)\n",
    "\n",
    "# write to csv \n",
    "all.to_csv(genDir+\"/Chr01K_halfMb.csv\", index = None, sep = \"\\t\")"
   ]
  },
  {
   "cell_type": "code",
   "execution_count": null,
   "metadata": {},
   "outputs": [],
   "source": [
    "# Chr01K\n",
    "gen = pd.read_csv(genDir+\"/Chr01K_halfMb.012\", sep=\"\\t\", header=None)\n",
    "pos = pd.read_csv(genDir+\"/Chr01K_halfMb.012.pos\", sep=\"\\t\", header=None)\n",
    "pos.columns = [\"Chrom\", \"Pos\"]\n",
    "pos['id'] = pos['Chrom'].astype(str) + ['_'] + pos['Pos'].astype(str)\n",
    "gen_T = gen.T[1:].reset_index().iloc[:,1:]\n",
    "gen_T.columns=indv[0]\n",
    "pd.concat([pos.drop(columns=[\"Chrom\", \"Pos\"]), gen_T], axis=1).to_csv(genDir+\"/Chr01K_halfMb.csv\", index = None, sep = \"\\t\")"
   ]
  }
 ],
 "metadata": {
  "kernelspec": {
   "display_name": "Python 3",
   "language": "python",
   "name": "python3"
  },
  "language_info": {
   "codemirror_mode": {
    "name": "ipython",
    "version": 3
   },
   "file_extension": ".py",
   "mimetype": "text/x-python",
   "name": "python",
   "nbconvert_exporter": "python",
   "pygments_lexer": "ipython3",
   "version": "3.6.8"
  }
 },
 "nbformat": 4,
 "nbformat_minor": 2
}
