{
 "cells": [
  {
   "cell_type": "code",
   "execution_count": null,
   "metadata": {},
   "outputs": [],
   "source": [
    "# script to process .012 (genotype) files into text files compatibel with matrixEQTL\n",
    "\n",
    "# import relevant packages \n",
    "import numpy as np \n",
    "import pandas as pd\n",
    "\n",
    "# set genotype directory\n",
    "genDir=\"/mnt/scratch/bergcole/filtered_switchgrass_genotypes/filt_99\"\n",
    "\n",
    "gen = pd.read_csv(genDir/\"widespread_inbred_inv5.012\", sep=\"\\t\", header=None)\n",
    "indv = pd.read_csv(genDir/\"widespread_inbred_inv5.012.indv\", sep=\"\\t\", header=None)\n",
    "pos = pd.read_csv(genDir/\"widespread_inbred_inv5.012.pos\", sep=\"\\t\", header=None)\n",
    "\n",
    "pos.columns = [\"Chrom\", \"Pos\"]\n",
    "gen_T = gen.T[1:].reset_index().iloc[:,1:]sta\n",
    "gen_T.columns=indv[0]\n",
    "all = pd.concat([pos, gen_T], axis=1)\n",
    "all.to_csv(genDir/\"Chr01K.csv\")"
   ]
  }
 ],
 "metadata": {
  "language_info": {
   "name": "python"
  }
 },
 "nbformat": 4,
 "nbformat_minor": 2
}
